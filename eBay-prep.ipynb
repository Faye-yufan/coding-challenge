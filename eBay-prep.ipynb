{
 "cells": [
  {
   "cell_type": "markdown",
   "id": "a4550de4",
   "metadata": {},
   "source": [
    "## 1. conversation"
   ]
  },
  {
   "cell_type": "code",
   "execution_count": 28,
   "id": "a1051fc7",
   "metadata": {},
   "outputs": [],
   "source": [
    "from collections import deque\n",
    "def splitMessageToUserWidth222(message, userWidth):\n",
    "    wordList = message.split(' ')\n",
    "    queue, out = [], []\n",
    "    while wordList:\n",
    "        if len(wordList[0]) + 1 + len(queue) > userWidth:\n",
    "            out.append(\"\".join)\n",
    "    pass\n",
    "    \n",
    "def splitMessageToUserWidth(message, userWidth):\n",
    "    out = []\n",
    "    wordList = message.split(' ')\n",
    "    i = 0\n",
    "    while i < len(wordList) - 1:\n",
    "        curChunk = wordList[i]\n",
    "        \n",
    "        if len(curChunk) == userWidth:\n",
    "            out.append(curChunk)\n",
    "            i += 1\n",
    "            continue\n",
    "            \n",
    "        for j in range(i+1, len(wordList)):\n",
    "            if len(curChunk) + 1 + len(wordList[j]) == userWidth:\n",
    "                curChunk += ' ' + wordList[j]\n",
    "                i = j + 1\n",
    "                break\n",
    "                \n",
    "            elif len(curChunk) + 1 + len(wordList[j]) > userWidth:\n",
    "                i = j\n",
    "                break\n",
    "            \n",
    "            else:\n",
    "                curChunk += ' ' + wordList[j]\n",
    "                i = j                \n",
    "        \n",
    "        out.append(curChunk)\n",
    "    \n",
    "    out.append(wordList[-1])\n",
    "        \n",
    "    return out\n",
    "\n",
    "def conversation(messages, width, userWidth):\n",
    "    header = \"+\" + \"\".join([\"*\" for _ in range(width)]) + \"+\"\n",
    "    out = [header]\n",
    "    for m in messages:\n",
    "        userId, userMessage = m[0], m[1]\n",
    "#         userMessageChunk = m[1].split(' ')\n",
    "        userMessageChunk = splitMessageToUserWidth222(m[1], userWidth)\n",
    "        if userId == \"1\":\n",
    "            for chunk in userMessageChunk:\n",
    "                out.append(\"|\" + chunk + \" \" * (width - len(chunk)) + \"|\")\n",
    "        if userId == \"2\":\n",
    "            for chunk in userMessageChunk:\n",
    "                out.append(\"|\" + \" \" * (width - len(chunk)) + chunk + \"|\")\n",
    "    out += [header]\n",
    "    return out"
   ]
  },
  {
   "cell_type": "code",
   "execution_count": 29,
   "id": "e186d41e",
   "metadata": {},
   "outputs": [
    {
     "data": {
      "text/plain": [
       "['+***************+',\n",
       " '|Hello          |',\n",
       " '|          good |',\n",
       " '|             ty|',\n",
       " '|              u|',\n",
       " '|me             |',\n",
       " '|too            |',\n",
       " '|bro            |',\n",
       " '+***************+']"
      ]
     },
     "execution_count": 29,
     "metadata": {},
     "output_type": "execute_result"
    }
   ],
   "source": [
    "messages = [[\"1\", \"Hello how r u\"],\n",
    "           [\"2\", \"good ty\"],\n",
    "           [\"2\", \"u\"],\n",
    "           [\"1\", \"me too bro\"]]\n",
    "conversation(messages, 15, 5)"
   ]
  },
  {
   "cell_type": "code",
   "execution_count": 26,
   "id": "e4cb2d56",
   "metadata": {},
   "outputs": [
    {
     "data": {
      "text/plain": [
       "['f', 'o', 'o', 'b', 'a', 'r']"
      ]
     },
     "execution_count": 26,
     "metadata": {},
     "output_type": "execute_result"
    }
   ],
   "source": [
    "list(\"foobar\")"
   ]
  },
  {
   "cell_type": "markdown",
   "id": "ec98c3de",
   "metadata": {},
   "source": [
    "## 2. change directory"
   ]
  },
  {
   "cell_type": "code",
   "execution_count": 34,
   "id": "51588a0f",
   "metadata": {},
   "outputs": [],
   "source": [
    "def changeDir(commands):\n",
    "    stack = []\n",
    "    for command in commands:\n",
    "        dest = command.removeprefix('cd ')\n",
    "        if dest == '.':\n",
    "            continue\n",
    "        if dest == '/':\n",
    "            stack = []\n",
    "        elif dest == '..':\n",
    "            stack.pop()\n",
    "        else:\n",
    "            stack.append(dest)\n",
    "    return \"/\" + \"/\".join(stack)"
   ]
  },
  {
   "cell_type": "code",
   "execution_count": 36,
   "id": "e0d30b79",
   "metadata": {},
   "outputs": [
    {
     "data": {
      "text/plain": [
       "'/users/admin'"
      ]
     },
     "execution_count": 36,
     "metadata": {},
     "output_type": "execute_result"
    }
   ],
   "source": [
    "commands = [\n",
    "    \"cd users\",\n",
    "    \"cd codesignal\",\n",
    "    \"cd ..\",\n",
    "    \"cd admin\"\n",
    "]\n",
    "changeDir(commands)"
   ]
  },
  {
   "cell_type": "markdown",
   "id": "4f0c64d3",
   "metadata": {},
   "source": [
    "## 3. group chat"
   ]
  },
  {
   "cell_type": "code",
   "execution_count": 101,
   "id": "8ec3429d",
   "metadata": {},
   "outputs": [],
   "source": [
    "import re\n",
    "from collections import defaultdict\n",
    "\n",
    "def sortByValueThenKey(d):\n",
    "    sortedFreq = sorted(d.items(), key=lambda x: (-x[1],x[0]))\n",
    "    return [s[0] + '=' + str(s[1]) for s in sortedFreq]\n",
    "\n",
    "def trimMatch(match):\n",
    "    return ''.join(c for c in match if c not in '@,')\n",
    "\n",
    "def mentions(members, messages):\n",
    "    patterns = ['\\B@\\w+', '\\B@\\w+(,\\w+)*']\n",
    "    usersFreq = defaultdict(lambda: 0)\n",
    "    \n",
    "    for m in messages:\n",
    "        usersAppear = set()\n",
    "        for pattern in patterns:\n",
    "            matches = re.findall(pattern, m)\n",
    "            for match in matches:\n",
    "                if len(match) == 0:\n",
    "                    continue\n",
    "                match = trimMatch(match)\n",
    "                usersAppear.add(match)\n",
    "        # put users appeared in this message into frequency table\n",
    "        for user in usersAppear:\n",
    "            usersFreq[user] += 1\n",
    "    \n",
    "    # count only member frequency\n",
    "    membersFreq = {member: 0 for member in members}\n",
    "    for user, freq in usersFreq.items():\n",
    "        if user not in members:\n",
    "            continue\n",
    "        membersFreq[user] = freq\n",
    "    # sort by frequency first, then user id lexicorically\n",
    "    membersFreq = sortByValueThenKey(membersFreq)\n",
    "    \n",
    "    return membersFreq\n"
   ]
  },
  {
   "cell_type": "code",
   "execution_count": 102,
   "id": "1e19cb41",
   "metadata": {},
   "outputs": [],
   "source": [
    "members = [\"id123\", \"id234\", \"id7\", \"id321\"]\n",
    "messages = [\n",
    "    \"Hey @id123,id321 review this PR please! @id123 what do you think about this approach?\",\n",
    "    \"Hey @id7 nice appro@ch! Great job! @id800 what do you think?\",\n",
    "    \"@id123,id321 thx!\"\n",
    "]\n",
    "# [\"id123=2\", \"id321=2\", \"id7=1\", \"id234=0\"]"
   ]
  },
  {
   "cell_type": "code",
   "execution_count": 103,
   "id": "19889629",
   "metadata": {},
   "outputs": [
    {
     "data": {
      "text/plain": [
       "['id123=2', 'id321=2', 'id7=1', 'id234=0']"
      ]
     },
     "execution_count": 103,
     "metadata": {},
     "output_type": "execute_result"
    }
   ],
   "source": [
    "mentions(members, messages)"
   ]
  },
  {
   "cell_type": "markdown",
   "id": "5b9e7320",
   "metadata": {},
   "source": [
    "## 4. Black cells"
   ]
  },
  {
   "cell_type": "code",
   "execution_count": 130,
   "id": "43b51578",
   "metadata": {},
   "outputs": [],
   "source": [
    "def blackCells(n, m, black):\n",
    "    matrix = [[0 for _ in range(m)] for _ in range(n)]\n",
    "    for i in range(n):\n",
    "        for j in range(m):\n",
    "            if [i, j] in black:\n",
    "                matrix[i][j] = 1\n",
    "    addSum = [[0 for _ in range(m+1)] for _ in range(n+1)]\n",
    "    for i in range(1, n+1):\n",
    "        addSum[i][1] = addSum[i-1][1] + matrix[i-1][0]\n",
    "    for j in range(1, m+1):\n",
    "        addSum[1][j] = addSum[1][j-1] + matrix[0][j-1]\n",
    "    for i in range(2, n+1):\n",
    "        for j in range(2, m+1):\n",
    "            addSum[i][j] = addSum[i-1][j] + addSum[i][j-1] - addSum[i-1][j-1] + matrix[i-1][j-1]\n",
    "\n",
    "    res = [0 for _ in range(5)]\n",
    "    for i in range(2, n+1):\n",
    "        for j in range(2, m+1):\n",
    "            numOfBlack = addSum[i][j] - addSum[i-2][j] - addSum[i][j-2] + addSum[i-2][j-2]\n",
    "            res[numOfBlack] += 1\n",
    "    return res"
   ]
  },
  {
   "cell_type": "code",
   "execution_count": 131,
   "id": "dc2c3deb",
   "metadata": {},
   "outputs": [
    {
     "data": {
      "text/plain": [
       "[1, 2, 0, 1, 0]"
      ]
     },
     "execution_count": 131,
     "metadata": {},
     "output_type": "execute_result"
    }
   ],
   "source": [
    "blackCells(3, 3, [[0,0], [0,1], [1,0]])"
   ]
  },
  {
   "cell_type": "code",
   "execution_count": 132,
   "id": "a388713b",
   "metadata": {},
   "outputs": [
    {
     "data": {
      "text/plain": [
       "[1, 4, 3, 1, 0]"
      ]
     },
     "execution_count": 132,
     "metadata": {},
     "output_type": "execute_result"
    }
   ],
   "source": [
    "blackCells(4, 4, [[0,1],[0,2], [1,0],[2,0], [2,1], [3,3]])"
   ]
  },
  {
   "cell_type": "code",
   "execution_count": null,
   "id": "0dc58be9",
   "metadata": {},
   "outputs": [],
   "source": []
  }
 ],
 "metadata": {
  "kernelspec": {
   "display_name": "Python 3 (ipykernel)",
   "language": "python",
   "name": "python3"
  },
  "language_info": {
   "codemirror_mode": {
    "name": "ipython",
    "version": 3
   },
   "file_extension": ".py",
   "mimetype": "text/x-python",
   "name": "python",
   "nbconvert_exporter": "python",
   "pygments_lexer": "ipython3",
   "version": "3.9.12"
  }
 },
 "nbformat": 4,
 "nbformat_minor": 5
}
